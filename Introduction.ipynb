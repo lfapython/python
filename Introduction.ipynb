{
 "cells": [
  {
   "cell_type": "markdown",
   "metadata": {},
   "source": [
    "# Introduction to Python Basics Sessions\n",
    "---\n",
    "\n",
    "## Anaconda\n",
    "\n",
    "Anaconda is python distribution which bundles all the required datascience tools.\n",
    "\n",
    "> Download Anaconda from [Anaconda Website](https://www.continuum.io/downloads). Use Python 3 version.\n",
    "\n",
    "\n",
    "### Installation\n",
    "---\n",
    "\n",
    "Linux\n",
    "\n",
    "    > chmod +x Anaconda3-latest-Linux-x86_64.sh\n",
    "    > ./Anaconda3-latest-Linux-x86_64.sh\n",
    "    > nano ~/.bashrc\n",
    "\n",
    "Mac\n",
    "\n",
    "    > chmod +x Anaconda3-latest-MacOSX-x86_64.sh\n",
    "    > ./Anaconda3-latest-MacOSX-x86_64.sh\n",
    "    > nano ~/.bash_profile\n",
    "\n",
    "Add line below to .bashrc or .bash_profile or .zshrc file\n",
    "\n",
    "```sh \n",
    "    export PATH=$PATH:~/anaconda3/bin\n",
    "```\n",
    "\n",
    "Windows\n",
    "\n",
    "  - Install exe file\n",
    "  - update environment variable with installed Anaconda path. [See Instructions](https://www.microsoft.com/resources/documentation/windows/xp/all/proddocs/en-us/sysdm_advancd_environmnt_addchange_variable.mspx)\n",
    "\n",
    "\n",
    "## Github and Git\n",
    "---\n",
    "\n",
    "- Download github desktop from [https://desktop.github.com/](https://desktop.github.com/)\n",
    "\n",
    "### Windows\n",
    "\n",
    "- Download git for windows from [https://git-scm.com/download/win](https://git-scm.com/download/win)\n",
    "\n",
    "### Linux\n",
    "\n",
    "- Install **git** from your package manager.\n",
    "\n",
    "    **Ubuntu**\n",
    "        $ sudo apt-get install git\n",
    "    \n",
    "    **Archlinux**\n",
    "        $ sudo pacman -S git\n",
    "    \n",
    "    **Solus**\n",
    "        $ sudo eopkg it git"
   ]
  },
  {
   "cell_type": "markdown",
   "metadata": {},
   "source": [
    "# Introduction to Jupyter\n",
    "---\n",
    "\n",
    "- Run Anaconda launcher and  launch Jupyter from laucher application.\n",
    "- Browser window is automatically opened with page that looks like this ![screenshot1](Data/images/jupyter-startup.png)\n",
    "\n",
    "- From right corner, click New and select \"Python 3\" from dropdown.\n",
    "- A new tab will open that looks like below\n",
    "![blank notebook](Data/images/notebook-blank.png)"
   ]
  },
  {
   "cell_type": "code",
   "execution_count": 1,
   "metadata": {},
   "outputs": [
    {
     "name": "stdout",
     "output_type": "stream",
     "text": [
      "Hello World\n"
     ]
    }
   ],
   "source": [
    "print(\"Hello World\")"
   ]
  },
  {
   "cell_type": "markdown",
   "metadata": {},
   "source": [
    "*To run code like above type `print(\"Hello World\")` and hit Ctrl+Enter*\n",
    "\n",
    "*Or to run a cell and create new one below hit Shift+Enter (Only creates new cell if there are no cells below)*\n",
    "\n",
    "*Or to run a cell and create new one below hit Alt+Enter*\n",
    "\n",
    "*You can also use toolbar, plus ($+$) sign to create a new cell*"
   ]
  },
  {
   "cell_type": "code",
   "execution_count": null,
   "metadata": {},
   "outputs": [],
   "source": []
  },
  {
   "cell_type": "markdown",
   "metadata": {},
   "source": [
    "Each of these is called cell"
   ]
  },
  {
   "cell_type": "code",
   "execution_count": null,
   "metadata": {},
   "outputs": [],
   "source": []
  },
  {
   "cell_type": "markdown",
   "metadata": {},
   "source": [
    "#### For DataStructure and Algorithms\n",
    "\n",
    "[https://github.com/codePerfectPlus/AlgorithmsAndDataStructure](https://github.com/codePerfectPlus/AlgorithmsAndDataStructure)"
   ]
  },
  {
   "cell_type": "code",
   "execution_count": null,
   "metadata": {},
   "outputs": [],
   "source": []
  }
 ],
 "metadata": {
  "anaconda-cloud": {},
  "kernelspec": {
   "display_name": "Python 3 (ipykernel)",
   "language": "python",
   "name": "python3"
  },
  "language_info": {
   "codemirror_mode": {
    "name": "ipython",
    "version": 3
   },
   "file_extension": ".py",
   "mimetype": "text/x-python",
   "name": "python",
   "nbconvert_exporter": "python",
   "pygments_lexer": "ipython3",
   "version": "3.10.1"
  }
 },
 "nbformat": 4,
 "nbformat_minor": 1
}
